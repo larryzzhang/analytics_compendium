{
 "cells": [
  {
   "cell_type": "markdown",
   "metadata": {},
   "source": [
    "# Larry's Analytics Compendium"
   ]
  },
  {
   "cell_type": "code",
   "execution_count": 3,
   "metadata": {},
   "outputs": [],
   "source": [
    "import pandas as pd\n",
    "import numpy as np\n",
    "import scipy as sp\n",
    "import statsmodels.api as sm\n",
    "import math\n",
    "\n",
    "import matplotlib.pyplot as plt\n",
    "import seaborn as sns\n",
    "import plotly.express as px\n",
    "import plotly.graph_objects as go\n",
    "\n",
    "pd.options.display.max_columns = None\n",
    "pd.options.display.max_rows = None\n",
    "\n",
    "%matplotlib inline\n",
    "\n",
    "# show all output\n",
    "from IPython.core.interactiveshell import InteractiveShell\n",
    "InteractiveShell.ast_node_interactivity = \"all\""
   ]
  },
  {
   "cell_type": "markdown",
   "metadata": {},
   "source": [
    "# Table of Contents"
   ]
  },
  {
   "cell_type": "markdown",
   "metadata": {},
   "source": [
    "**[Probability](#Probability)**<br>\n",
    "* [Bayes Theorem](#Bayes-Theorem)\n",
    "* [Unions & Intersections](#Unions-&-Intersections)\n",
    "\n",
    "**[Distributions](#Distributions)**<br>\n",
    "* [PMF & PDF](#PMF-&-PDF)\n",
    "* [CDF](#CDF-&-ECDF)\n",
    "* [Uniform](#Uniform)\n",
    "* [Bernoulli](#Bernoulli)\n",
    "* [Geometric](#Geometric)\n",
    "* [Binomial](#Binomial)\n",
    "* [Poisson](#Poisson)\n",
    "* [Normal](#Normal)\n",
    "* [Student's T](#Student's-T)\n",
    "\n",
    "**[Misc](#Misc)**<br>"
   ]
  },
  {
   "cell_type": "markdown",
   "metadata": {},
   "source": [
    "---"
   ]
  },
  {
   "cell_type": "markdown",
   "metadata": {},
   "source": [
    "# Probability"
   ]
  },
  {
   "cell_type": "markdown",
   "metadata": {},
   "source": [
    "## Bayes Theorem"
   ]
  },
  {
   "cell_type": "markdown",
   "metadata": {},
   "source": [
    "A customer visits the store:\n",
    "\n",
    "* Let C represent the event that the customer visiting the store purchases a product (nonzero probability)\n",
    "\n",
    "* Let A represent the event that the customer visiting the store is Type A\n",
    "\n",
    "* Let B represent the event that the customer visiting the store is Type B\n",
    "\n",
    "\n",
    "$P(C|A)$ \n",
    "* c_a - probability that the customer purchases a product, given they are Type A\n",
    "\n",
    "$P(C|B)$ \n",
    "* c_b - probability that the customer purchases a product, given they are Type B\n",
    "\n",
    "$P(A) = 1 - P(B) = P(B^c)$ \n",
    "* a, b - probability that the customer is Type A, B\n",
    "* A is the complement of B (assuming no other customer types)"
   ]
  },
  {
   "cell_type": "markdown",
   "metadata": {},
   "source": [
    "$P(A|C) = \\frac{P(A\\cap C)}{P(C)}= \\frac{P(C|A)P(A)}{P(C)} = \\frac{P(C|A)P(A)}{P(C|A)P(A) + P(C|B)P(B)}$"
   ]
  },
  {
   "cell_type": "code",
   "execution_count": 50,
   "metadata": {},
   "outputs": [],
   "source": [
    "### Assuming known probability that a customer purchases a product, given they are Type A, B (c_a, c_b):\n",
    "### Write a single parameter function that calculates the probability that a customer visiting the store is Type A, given they purchased a product\n",
    "\n",
    "def type_A_customer(a):\n",
    "    # Probability that customer is Type B (not Type A)\n",
    "    b = 1 - a\n",
    "    # Probability of purchases based on customer Type\n",
    "    c_a = 0.01\n",
    "    c_b = 0.1\n",
    "    # Probability that a customer purchases a product\n",
    "    c = ((c_a * a) + (c_b * b))\n",
    "    \n",
    "    return (c_a * a) / c"
   ]
  },
  {
   "cell_type": "code",
   "execution_count": 51,
   "metadata": {
    "scrolled": true
   },
   "outputs": [
    {
     "name": "stdout",
     "output_type": "stream",
     "text": [
      "50% of customers are type A: 0.09\n",
      "60% of customers are type A: 0.13\n"
     ]
    }
   ],
   "source": [
    "print('50%% of customers are type A: %.2f' %(type_A_customer(0.5)))\n",
    "print('60%% of customers are type A: %.2f' %(type_A_customer(0.6)))"
   ]
  },
  {
   "cell_type": "markdown",
   "metadata": {},
   "source": [
    "## Unions & Intersections"
   ]
  },
  {
   "cell_type": "markdown",
   "metadata": {},
   "source": [
    "Assuming A and B are mutually independent events"
   ]
  },
  {
   "cell_type": "markdown",
   "metadata": {},
   "source": [
    "**Union**\n",
    "\n",
    "$A \\cap B$ - All outcomes that are elements of both A and B\n",
    "\n",
    "$P(A \\cap B) = P(A) \\times P(B)$\n",
    "\n",
    "A and B are mutually exclusive: $P(A \\cap B) = 0$"
   ]
  },
  {
   "cell_type": "markdown",
   "metadata": {},
   "source": [
    "**Intersection**\n",
    "\n",
    "$A \\cup B$ - All outcomes that are elements of either A and B or both\n",
    "\n",
    "$P(A \\cup B) = P(A) + P(B) - P(A \\cap B)$"
   ]
  },
  {
   "cell_type": "markdown",
   "metadata": {},
   "source": [
    "Higher order\n",
    "\n",
    "\n",
    "$P(A \\cup B \\cup C) = P(A) + P(B) + P(C) - P(A \\cap B) - P(A \\cap C) - P(B \\cap C) + P(A \\cap B \\cap C)$\n",
    "\n",
    "$P(E_1 \\cup E_2 ... E_n) = \\sum\\limits_{i\\in n}P(E_i) - \\sum\\limits_{i < j}P(E_i \\cap E_j) + \\sum\\limits_{i < j < k}P(E_i \\cap E_j \\cap E_k) ... + (-1)^nP(E_1 \\cap E_2 ... E_n)$"
   ]
  },
  {
   "cell_type": "code",
   "execution_count": 160,
   "metadata": {},
   "outputs": [],
   "source": [
    "def random_card_draw():\n",
    "    values = \"2, 3, 4, 5, 6, 7, 8, 9, 10, J, Q, K, A\".split(', ')\n",
    "    suits = {'Clubs': 'Black', 'Spades': 'Black', 'Hearts': 'Red', 'Diamond': 'Red'}\n",
    "    deck = [{'Value': v, 'Suit': s, 'Color': suits[s]} for v in values for s in list(suits.keys())]\n",
    "    c = np.random.choice(deck)\n",
    "    return c"
   ]
  },
  {
   "cell_type": "code",
   "execution_count": 182,
   "metadata": {},
   "outputs": [],
   "source": [
    "def draw_hand(deck, n_cards):\n",
    "    hand = []\n",
    "    for i in range(n_cards):\n",
    "        c = np.random.choice(deck)\n",
    "        deck.pop(deck.index(c))\n",
    "        hand.append(c)\n",
    "    return hand, deck"
   ]
  },
  {
   "cell_type": "code",
   "execution_count": 183,
   "metadata": {},
   "outputs": [
    {
     "name": "stdout",
     "output_type": "stream",
     "text": [
      "[{'Value': '7', 'Suit': 'Spades', 'Color': 'Black'}, {'Value': '8', 'Suit': 'Spades', 'Color': 'Black'}]\n",
      "50\n"
     ]
    }
   ],
   "source": [
    "values = \"2, 3, 4, 5, 6, 7, 8, 9, 10, J, Q, K, A\".split(', ')\n",
    "suits = {'Clubs': 'Black', 'Spades': 'Black', 'Hearts': 'Red', 'Diamond': 'Red'}\n",
    "deck = [{'Value': v, 'Suit': s, 'Color': suits[s]} for v in values for s in list(suits.keys())]\n",
    "\n",
    "hand, deck = draw_hand(deck, n_cards = 2)\n",
    "print(hand)\n",
    "print(len(deck))"
   ]
  },
  {
   "cell_type": "code",
   "execution_count": 162,
   "metadata": {},
   "outputs": [
    {
     "data": {
      "text/plain": [
       "{'Value': '2', 'Suit': 'Spades', 'Color': 'Black'}"
      ]
     },
     "execution_count": 162,
     "metadata": {},
     "output_type": "execute_result"
    }
   ],
   "source": [
    "random_card_draw()"
   ]
  },
  {
   "cell_type": "code",
   "execution_count": 154,
   "metadata": {},
   "outputs": [],
   "source": [
    "n = 10000\n",
    "is_black_and_queen = np.zeros(n)\n",
    "is_black_or_queen = np.zeros(n)\n",
    "is_black = np.zeros(n)\n",
    "is_queen = np.zeros(n)\n",
    "\n",
    "for i in range(n):\n",
    "    random_draw = random_card_draw()\n",
    "    if random_draw['Color'] == 'Black' and random_draw['Value'] == 'Q':\n",
    "        is_black_and_queen[i] = 1\n",
    "    if random_draw['Color'] == 'Black':\n",
    "        is_black[i] = 1\n",
    "        is_black_or_queen[i] = 1\n",
    "    if random_draw['Value'] == 'Q':\n",
    "        is_queen[i] = 1\n",
    "        is_black_or_queen[i] = 1"
   ]
  },
  {
   "cell_type": "code",
   "execution_count": 155,
   "metadata": {},
   "outputs": [
    {
     "data": {
      "text/plain": [
       "0.5376"
      ]
     },
     "execution_count": 155,
     "metadata": {},
     "output_type": "execute_result"
    }
   ],
   "source": [
    "is_black.mean() + is_queen.mean() - is_black_and_queen.mean()"
   ]
  },
  {
   "cell_type": "code",
   "execution_count": 156,
   "metadata": {},
   "outputs": [
    {
     "data": {
      "text/plain": [
       "0.5376"
      ]
     },
     "execution_count": 156,
     "metadata": {},
     "output_type": "execute_result"
    }
   ],
   "source": [
    "is_black_or_queen.mean()"
   ]
  },
  {
   "cell_type": "markdown",
   "metadata": {},
   "source": [
    "---"
   ]
  },
  {
   "cell_type": "markdown",
   "metadata": {},
   "source": [
    "# Distributions"
   ]
  },
  {
   "cell_type": "markdown",
   "metadata": {},
   "source": [
    "Random variable - variable with a defined set of outcomes (sample space) whose value depends on a random phenomenon. Can be simulated if parameters are known.\n",
    "\n",
    "Probability Distribution - describes the probability that a random variable takes a particular value in its defined sample space. Can be fitted to a dataset using MLE to estimate parameters.\n",
    "* Probability mass function - discrete\n",
    "* Probability density function - continuous\n",
    "* [Cumulative density function](#Cumulative-Distribution-Functions-(CDF)-&-Empirical-CDF)"
   ]
  },
  {
   "cell_type": "markdown",
   "metadata": {},
   "source": [
    "## PMF & PDF"
   ]
  },
  {
   "cell_type": "markdown",
   "metadata": {},
   "source": [
    "Probability Mass Function (PMF) - Discrete Random Variable\n",
    "\n",
    "Probability Density Function (PDF) - Continuous Random Variable"
   ]
  },
  {
   "cell_type": "markdown",
   "metadata": {},
   "source": [
    "PMF: $p(x_i) = P(X=x_i)$\n",
    "\n",
    "PDF: $f(x)$ &ensp;s.t.&ensp; $p(a \\leq X \\leq b) = \\int_a^bf(x)dx$"
   ]
  },
  {
   "cell_type": "markdown",
   "metadata": {},
   "source": [
    "Sum of probabilities across a random variable's sample space = 1\n",
    "\n",
    "$\\sum\\limits_{i \\in I} p(x_i) = 1$\n",
    "\n",
    "$\\int_{-\\infty}^{\\infty}f(x)dx = 1$"
   ]
  },
  {
   "cell_type": "markdown",
   "metadata": {},
   "source": [
    "## CDF & ECDF"
   ]
  },
  {
   "cell_type": "markdown",
   "metadata": {},
   "source": [
    "CDF of a random variable *X* is the probability that *X* will take a value less than or equal to a certain threshold *x*. Practically the same as percentile (though not in theory)."
   ]
  },
  {
   "cell_type": "markdown",
   "metadata": {},
   "source": [
    "$F(x) = P(X\\leq x) = \\int_{-\\infty}^xf(t)dt$ &emsp; ; &emsp; $f(x) = \\frac{d}{dx}F(x)$\n",
    "\n",
    "$P(a < X \\leq b) = F(b) - F(a)$"
   ]
  },
  {
   "cell_type": "code",
   "execution_count": 189,
   "metadata": {},
   "outputs": [],
   "source": [
    "def ecdf(x):\n",
    "    x = np.sort(x)\n",
    "    n = len(x)\n",
    "    y = np.arange(1, n + 1) / n\n",
    "    return x, y"
   ]
  },
  {
   "cell_type": "markdown",
   "metadata": {},
   "source": [
    "---"
   ]
  },
  {
   "cell_type": "markdown",
   "metadata": {},
   "source": [
    "## Uniform"
   ]
  },
  {
   "cell_type": "markdown",
   "metadata": {},
   "source": [
    "## Bernoulli"
   ]
  },
  {
   "cell_type": "markdown",
   "metadata": {},
   "source": [
    "Distribution describes a binary random variable (discrete) that takes value **1** with probability $p$ and value **0** with probability $q=1-p$ (i.e. single coin toss). Special case of [Binomial distribution](#Binomial) where n=1."
   ]
  },
  {
   "cell_type": "markdown",
   "metadata": {},
   "source": [
    "**Parameters**\n",
    "\n",
    "$k\\in\\{0, 1\\}$ - outcomes\n",
    "\n",
    "$p$ - probability of success (1)\n",
    "\n",
    "$q = 1 - p$ - probability of failure (0)"
   ]
  },
  {
   "cell_type": "markdown",
   "metadata": {},
   "source": [
    "**PMF**\n",
    "\n",
    "$f(k, p) = p^k(1 - p)^{k-1}$\n",
    "\n",
    "$f(1, p) = p$\n",
    "\n",
    "$f(0, p) = (1-p) = q$"
   ]
  },
  {
   "cell_type": "markdown",
   "metadata": {},
   "source": [
    "**Moments**\n",
    "\n",
    "$\\mu = p$\n",
    "\n",
    "$Var(x) = p(1-p) = pq$"
   ]
  },
  {
   "cell_type": "code",
   "execution_count": 52,
   "metadata": {
    "scrolled": true
   },
   "outputs": [
    {
     "data": {
      "text/plain": [
       "array([1])"
      ]
     },
     "execution_count": 52,
     "metadata": {},
     "output_type": "execute_result"
    }
   ],
   "source": [
    "### Fair coin\n",
    "np.random.binomial(size=1, n=1, p=0.5)"
   ]
  },
  {
   "cell_type": "code",
   "execution_count": 53,
   "metadata": {},
   "outputs": [
    {
     "data": {
      "text/plain": [
       "array([1])"
      ]
     },
     "execution_count": 53,
     "metadata": {},
     "output_type": "execute_result"
    }
   ],
   "source": [
    "### Unfair coin\n",
    "np.random.binomial(size=1, n=1, p=0.3)"
   ]
  },
  {
   "cell_type": "markdown",
   "metadata": {},
   "source": [
    "## Geometric"
   ]
  },
  {
   "cell_type": "markdown",
   "metadata": {},
   "source": [
    "Distribution describes the number of [Bernoulli](#Bernoulli) trials needed to see one success\n",
    "* Random Variable takes values {1, 2, 3, 4, ...}\n",
    "* Success trial included (shifted)"
   ]
  },
  {
   "cell_type": "markdown",
   "metadata": {},
   "source": [
    "**Parameters**\n",
    "\n",
    "$k\\in \\{1, 2, 3, 4, ...\\}$ - number of Bernoulli trials\n",
    "\n",
    "$p$ - probability of success"
   ]
  },
  {
   "cell_type": "markdown",
   "metadata": {},
   "source": [
    "**PMF**"
   ]
  },
  {
   "cell_type": "markdown",
   "metadata": {},
   "source": [
    "$f(k) = (1-p)^{k-1}p$"
   ]
  },
  {
   "cell_type": "markdown",
   "metadata": {},
   "source": [
    "**Moments**\n",
    "\n",
    "$\\mu = 1/p$\n",
    "\n",
    "$Var(x) = \\frac{1-p}{p^2}$"
   ]
  },
  {
   "cell_type": "code",
   "execution_count": 564,
   "metadata": {},
   "outputs": [
    {
     "data": {
      "text/plain": [
       "2"
      ]
     },
     "execution_count": 564,
     "metadata": {},
     "output_type": "execute_result"
    }
   ],
   "source": [
    "p = 0.20\n",
    "np.random.geometric(p)"
   ]
  },
  {
   "cell_type": "code",
   "execution_count": 565,
   "metadata": {},
   "outputs": [],
   "source": [
    "bern_sim = np.empty(10000)\n",
    "\n",
    "for i in range(10000):\n",
    "    g = min([i+1 for i, x  in enumerate(np.random.binomial(size=100, n=1, p=p)) if x > 0] + [101])\n",
    "    bern_sim[i] = g"
   ]
  },
  {
   "cell_type": "code",
   "execution_count": 573,
   "metadata": {},
   "outputs": [
    {
     "data": {
      "image/png": "[encoded data removed]",
      "text/plain": [
       "<Figure size 432x288 with 1 Axes>"
      ]
     },
     "metadata": {
      "needs_background": "light"
     },
     "output_type": "display_data"
    }
   ],
   "source": [
    "geo_sim = np.random.geometric(p=p, size=10000)\n",
    "bins = np.arange(0, int(max(np.max(geo_sim), np.max(bern_sim))) + 1)\n",
    "hist_params = {'alpha': 0.5, 'density': True, 'bins': bins}\n",
    "\n",
    "plt.hist(bern_sim, **hist_params)\n",
    "plt.hist(geo_sim, **hist_params)\n",
    "plt.plot(np.arange(1, max(bins)+1), sp.stats.geom(p).pmf(k=np.arange(1, max(bins)+1)))\n",
    "plt.legend(['Geometric PMF', 'Bernoulli Draws', 'Geometric Simulation']);"
   ]
  },
  {
   "cell_type": "code",
   "execution_count": 577,
   "metadata": {
    "scrolled": true
   },
   "outputs": [
    {
     "data": {
      "image/png": "[encoded data removed]",
      "text/plain": [
       "<Figure size 432x288 with 1 Axes>"
      ]
     },
     "metadata": {
      "needs_background": "light"
     },
     "output_type": "display_data"
    }
   ],
   "source": [
    "plt.scatter(*ecdf(geo_sim), color='orange')\n",
    "plt.plot(sp.stats.geom(p).cdf(np.arange(0, max(bins)+1)))\n",
    "plt.legend(['Geometric Simulation ECDF', 'Bernoulli Simulation ECDF', 'Geometric CDF']);"
   ]
  },
  {
   "cell_type": "markdown",
   "metadata": {},
   "source": [
    "## Binomial"
   ]
  },
  {
   "cell_type": "markdown",
   "metadata": {},
   "source": [
    "Distribution describes the number of successes *k* in a sequence of *n* **independent** [Bernoulli](#Bernoulli) trials each with probability *p* (i.e. number of heads if you flip a coin 20 times).\n",
    "* Discrete random variable - *k*\n",
    "* Bernoulli trials are **independent** - outcome of one Bernoulli trial does not affect outcome of another Bernoulli trial\n",
    "    - don't expect the next coin flip to be heads just because the last 10 have been tails\n",
    "* With large n, the Binomial distribution of a discrete random variable can be approximated by [normal distribution](#Normal) of continuous random variable"
   ]
  },
  {
   "cell_type": "markdown",
   "metadata": {},
   "source": [
    "**Parameters**\n",
    "\n",
    "$n$ - number of Bernoulli trials\n",
    "\n",
    "$k\\in[0, n]$ - number of successes\n",
    "\n",
    "$p$ - probability of success per single Bernoulli trial\n",
    "\n",
    "$q = 1 - p$ - probability of failure per single Bernoulli trial"
   ]
  },
  {
   "cell_type": "markdown",
   "metadata": {},
   "source": [
    "**PMF**\n",
    "\n",
    "$f(n, k, p) = \\binom{n}{k}p^k(1 - p)^{n-k}$\n",
    "\n",
    "$\\binom{n}{k} = \\frac{n!}{k!(n-k)!}$"
   ]
  },
  {
   "cell_type": "markdown",
   "metadata": {},
   "source": [
    "**Moments**\n",
    "\n",
    "$\\mu = np$\n",
    "\n",
    "$Var(x) = npq$"
   ]
  },
  {
   "cell_type": "code",
   "execution_count": 166,
   "metadata": {},
   "outputs": [
    {
     "name": "stdout",
     "output_type": "stream",
     "text": [
      "[0 0 0 1 0 0 1 1 0 1]\n",
      "4\n"
     ]
    }
   ],
   "source": [
    "### size = number of binomial samples\n",
    "### n = number of bernoulli samples\n",
    "### p = probability of bernoulli sample\n",
    "binom = np.random.binomial(size=10, n=1, p=0.5)\n",
    "print(binom)\n",
    "print(binom.sum())"
   ]
  },
  {
   "cell_type": "code",
   "execution_count": 130,
   "metadata": {},
   "outputs": [
    {
     "name": "stdout",
     "output_type": "stream",
     "text": [
      "7\n",
      "4\n"
     ]
    }
   ],
   "source": [
    "### Two different ways of sampling a binomial distribution with n=10 and p=0.5. Output = k\n",
    "print(np.random.binomial(size=10, n=1, p=0.5).sum())\n",
    "print(np.random.binomial(size=1, n=10, p=0.5)[0])"
   ]
  },
  {
   "cell_type": "code",
   "execution_count": 582,
   "metadata": {},
   "outputs": [
    {
     "data": {
      "image/png": "[encoded data removed]",
      "text/plain": [
       "<Figure size 432x288 with 1 Axes>"
      ]
     },
     "metadata": {
      "needs_background": "light"
     },
     "output_type": "display_data"
    }
   ],
   "source": [
    "n = 10\n",
    "p = 0.5\n",
    "bern = np.empty(10000)\n",
    "binom = np.empty(10000)\n",
    "for i in range(10000):\n",
    "    bern[i] = np.random.binomial(size=n, n=1, p=p).sum()\n",
    "    binom[i] = np.random.binomial(size=1, n=n, p=p)\n",
    "    \n",
    "plt.hist(bern, alpha=0.5, bins=np.arange(0, n+2), density=True)\n",
    "plt.hist(binom, alpha=0.5, bins=np.arange(0, n+2), density=True)\n",
    "plt.plot(np.arange(0, n+1), sp.stats.binom.pmf(k=np.arange(0, n+1), p=p, n=n))\n",
    "plt.xticks(np.arange(0, n+2, 1))\n",
    "plt.legend(['Binomial PMF', f'{n}_bernoulli', f'{n}_binomial']);"
   ]
  },
  {
   "cell_type": "code",
   "execution_count": 422,
   "metadata": {},
   "outputs": [
    {
     "data": {
      "image/png": "[encoded data removed]",
      "text/plain": [
       "<Figure size 432x288 with 1 Axes>"
      ]
     },
     "metadata": {
      "needs_background": "light"
     },
     "output_type": "display_data"
    }
   ],
   "source": [
    "plt.scatter(*ecdf(binom), color='orange')\n",
    "plt.plot(sp.stats.binom(n=n, p=p).cdf(np.arange(0, n+1)))\n",
    "plt.legend(['Binomial Simulation ECDF', 'Binomial CDF']);"
   ]
  },
  {
   "cell_type": "markdown",
   "metadata": {},
   "source": [
    "**Make a biased coin unbiased**"
   ]
  },
  {
   "cell_type": "code",
   "execution_count": 93,
   "metadata": {},
   "outputs": [],
   "source": [
    "def biased_coin(p = 0.3):\n",
    "    return np.random.binomial(size=1, n=1, p=p)[0]"
   ]
  },
  {
   "cell_type": "code",
   "execution_count": 105,
   "metadata": {},
   "outputs": [],
   "source": [
    "def unbiased_coin():\n",
    "    while True:\n",
    "        f_1 = biased_coin()\n",
    "        f_2 = biased_coin()\n",
    "        if (f_1 == 1) and (f_2 == 0):\n",
    "            return 1\n",
    "        elif (f_1 == 0) and (f_2 == 1):\n",
    "            return 0\n",
    "        else:\n",
    "            continue"
   ]
  },
  {
   "cell_type": "code",
   "execution_count": 120,
   "metadata": {},
   "outputs": [
    {
     "name": "stdout",
     "output_type": "stream",
     "text": [
      "0.5032\n"
     ]
    }
   ],
   "source": [
    "coin_flips = np.empty(10000)\n",
    "for i in range(10000):\n",
    "    coin_flips[i] = unbiased_coin()\n",
    "print(coin_flips.sum() / coin_flips.shape[0])"
   ]
  },
  {
   "cell_type": "markdown",
   "metadata": {},
   "source": [
    "## Poisson"
   ]
  },
  {
   "cell_type": "markdown",
   "metadata": {},
   "source": [
    "Describes the probability of seeing a given number of events occur in in a fixed, defined unit of time/space (i.e. number of calls in response to a TV airing).\n",
    "* Fixed average rate of occurrence ($\\lambda$)\n",
    "* Events are independent of each other\n",
    "* Inverse of [exponential function](#Exponential), which can describe the time/space between events"
   ]
  },
  {
   "cell_type": "markdown",
   "metadata": {},
   "source": [
    "**Parameters**\n",
    "\n",
    "$\\lambda$ - average rate of occurrence\n",
    "\n",
    "$k$ - number of events"
   ]
  },
  {
   "cell_type": "markdown",
   "metadata": {},
   "source": [
    "**PMF**\n",
    "\n",
    "$f(k, \\lambda) = \\frac{\\lambda^ke^{-\\lambda}}{k!}$"
   ]
  },
  {
   "cell_type": "markdown",
   "metadata": {},
   "source": [
    "**Moments**\n",
    "\n",
    "$\\mu = \\lambda$\n",
    "\n",
    "$Var(x) = \\lambda$"
   ]
  },
  {
   "cell_type": "code",
   "execution_count": 362,
   "metadata": {},
   "outputs": [],
   "source": [
    "lam = 10"
   ]
  },
  {
   "cell_type": "code",
   "execution_count": 363,
   "metadata": {},
   "outputs": [
    {
     "data": {
      "text/plain": [
       "12"
      ]
     },
     "execution_count": 363,
     "metadata": {},
     "output_type": "execute_result"
    }
   ],
   "source": [
    "### Random variable simulator\n",
    "### lam = lambda -> parameter that describes average number of events per unit\n",
    "np.random.poisson(lam=lam)"
   ]
  },
  {
   "cell_type": "code",
   "execution_count": 364,
   "metadata": {},
   "outputs": [],
   "source": [
    "poisson_draws = np.random.poisson(lam=lam, size=100000)"
   ]
  },
  {
   "cell_type": "code",
   "execution_count": 365,
   "metadata": {},
   "outputs": [
    {
     "data": {
      "image/png": "[encoded data removed]",
      "text/plain": [
       "<Figure size 432x288 with 1 Axes>"
      ]
     },
     "metadata": {
      "needs_background": "light"
     },
     "output_type": "display_data"
    }
   ],
   "source": [
    "bins = plt.hist(poisson_draws, bins=range(np.min(poisson_draws), np.max(poisson_draws)), density=True)\n",
    "plt.plot(sp.stats.poisson(lam).pmf(k=range(np.min(poisson_draws), np.max(poisson_draws) + 1)));"
   ]
  },
  {
   "cell_type": "code",
   "execution_count": 423,
   "metadata": {},
   "outputs": [
    {
     "data": {
      "image/png": "[encoded data removed]",
      "text/plain": [
       "<Figure size 432x288 with 1 Axes>"
      ]
     },
     "metadata": {
      "needs_background": "light"
     },
     "output_type": "display_data"
    }
   ],
   "source": [
    "plt.scatter(*ecdf(poisson_draws), color='orange')\n",
    "plt.plot(sp.stats.poisson(lam).cdf(range(np.min(poisson_draws), np.max(poisson_draws) + 1)))\n",
    "plt.legend(['Poisson Simulation ECDF', 'Poisson CDF']);"
   ]
  },
  {
   "cell_type": "code",
   "execution_count": 367,
   "metadata": {},
   "outputs": [
    {
     "data": {
      "text/plain": [
       "10.00652"
      ]
     },
     "execution_count": 367,
     "metadata": {},
     "output_type": "execute_result"
    }
   ],
   "source": [
    "np.mean(poisson_draws)"
   ]
  },
  {
   "cell_type": "code",
   "execution_count": 383,
   "metadata": {
    "scrolled": true
   },
   "outputs": [],
   "source": [
    "df = pd.DataFrame(pd.DataFrame(poisson_draws).groupby(0)[0].count() / len(poisson_draws)).rename(columns={0: 'Sim_Freq'}).reset_index()\n",
    "df = df.rename(columns={0: 'k'})\n",
    "df.loc[:,'PMF'] = df.loc[:, 'k'].apply(lambda x: sp.stats.poisson(lam).pmf(x))\n",
    "df['CDF'] = df['PMF'].cumsum()"
   ]
  },
  {
   "cell_type": "code",
   "execution_count": 384,
   "metadata": {
    "scrolled": true
   },
   "outputs": [
    {
     "data": {
      "text/html": [
       "<div>\n",
       "<style scoped>\n",
       "    .dataframe tbody tr th:only-of-type {\n",
       "        vertical-align: middle;\n",
       "    }\n",
       "\n",
       "    .dataframe tbody tr th {\n",
       "        vertical-align: top;\n",
       "    }\n",
       "\n",
       "    .dataframe thead th {\n",
       "        text-align: right;\n",
       "    }\n",
       "</style>\n",
       "<table border=\"1\" class=\"dataframe\">\n",
       "  <thead>\n",
       "    <tr style=\"text-align: right;\">\n",
       "      <th></th>\n",
       "      <th>k</th>\n",
       "      <th>Sim_Freq</th>\n",
       "      <th>PMF</th>\n",
       "      <th>CDF</th>\n",
       "    </tr>\n",
       "  </thead>\n",
       "  <tbody>\n",
       "    <tr>\n",
       "      <th>0</th>\n",
       "      <td>0</td>\n",
       "      <td>0.00004</td>\n",
       "      <td>0.000045</td>\n",
       "      <td>0.000045</td>\n",
       "    </tr>\n",
       "    <tr>\n",
       "      <th>1</th>\n",
       "      <td>1</td>\n",
       "      <td>0.00042</td>\n",
       "      <td>0.000454</td>\n",
       "      <td>0.000499</td>\n",
       "    </tr>\n",
       "    <tr>\n",
       "      <th>2</th>\n",
       "      <td>2</td>\n",
       "      <td>0.00227</td>\n",
       "      <td>0.002270</td>\n",
       "      <td>0.002769</td>\n",
       "    </tr>\n",
       "    <tr>\n",
       "      <th>3</th>\n",
       "      <td>3</td>\n",
       "      <td>0.00757</td>\n",
       "      <td>0.007567</td>\n",
       "      <td>0.010336</td>\n",
       "    </tr>\n",
       "    <tr>\n",
       "      <th>4</th>\n",
       "      <td>4</td>\n",
       "      <td>0.01940</td>\n",
       "      <td>0.018917</td>\n",
       "      <td>0.029253</td>\n",
       "    </tr>\n",
       "    <tr>\n",
       "      <th>5</th>\n",
       "      <td>5</td>\n",
       "      <td>0.03699</td>\n",
       "      <td>0.037833</td>\n",
       "      <td>0.067086</td>\n",
       "    </tr>\n",
       "    <tr>\n",
       "      <th>6</th>\n",
       "      <td>6</td>\n",
       "      <td>0.06425</td>\n",
       "      <td>0.063055</td>\n",
       "      <td>0.130141</td>\n",
       "    </tr>\n",
       "    <tr>\n",
       "      <th>7</th>\n",
       "      <td>7</td>\n",
       "      <td>0.08865</td>\n",
       "      <td>0.090079</td>\n",
       "      <td>0.220221</td>\n",
       "    </tr>\n",
       "    <tr>\n",
       "      <th>8</th>\n",
       "      <td>8</td>\n",
       "      <td>0.11180</td>\n",
       "      <td>0.112599</td>\n",
       "      <td>0.332820</td>\n",
       "    </tr>\n",
       "    <tr>\n",
       "      <th>9</th>\n",
       "      <td>9</td>\n",
       "      <td>0.12419</td>\n",
       "      <td>0.125110</td>\n",
       "      <td>0.457930</td>\n",
       "    </tr>\n",
       "    <tr>\n",
       "      <th>10</th>\n",
       "      <td>10</td>\n",
       "      <td>0.12520</td>\n",
       "      <td>0.125110</td>\n",
       "      <td>0.583040</td>\n",
       "    </tr>\n",
       "    <tr>\n",
       "      <th>11</th>\n",
       "      <td>11</td>\n",
       "      <td>0.11535</td>\n",
       "      <td>0.113736</td>\n",
       "      <td>0.696776</td>\n",
       "    </tr>\n",
       "    <tr>\n",
       "      <th>12</th>\n",
       "      <td>12</td>\n",
       "      <td>0.09574</td>\n",
       "      <td>0.094780</td>\n",
       "      <td>0.791556</td>\n",
       "    </tr>\n",
       "    <tr>\n",
       "      <th>13</th>\n",
       "      <td>13</td>\n",
       "      <td>0.07278</td>\n",
       "      <td>0.072908</td>\n",
       "      <td>0.864464</td>\n",
       "    </tr>\n",
       "    <tr>\n",
       "      <th>14</th>\n",
       "      <td>14</td>\n",
       "      <td>0.05240</td>\n",
       "      <td>0.052077</td>\n",
       "      <td>0.916542</td>\n",
       "    </tr>\n",
       "    <tr>\n",
       "      <th>15</th>\n",
       "      <td>15</td>\n",
       "      <td>0.03434</td>\n",
       "      <td>0.034718</td>\n",
       "      <td>0.951260</td>\n",
       "    </tr>\n",
       "    <tr>\n",
       "      <th>16</th>\n",
       "      <td>16</td>\n",
       "      <td>0.02099</td>\n",
       "      <td>0.021699</td>\n",
       "      <td>0.972958</td>\n",
       "    </tr>\n",
       "    <tr>\n",
       "      <th>17</th>\n",
       "      <td>17</td>\n",
       "      <td>0.01290</td>\n",
       "      <td>0.012764</td>\n",
       "      <td>0.985722</td>\n",
       "    </tr>\n",
       "    <tr>\n",
       "      <th>18</th>\n",
       "      <td>18</td>\n",
       "      <td>0.00759</td>\n",
       "      <td>0.007091</td>\n",
       "      <td>0.992813</td>\n",
       "    </tr>\n",
       "    <tr>\n",
       "      <th>19</th>\n",
       "      <td>19</td>\n",
       "      <td>0.00370</td>\n",
       "      <td>0.003732</td>\n",
       "      <td>0.996546</td>\n",
       "    </tr>\n",
       "    <tr>\n",
       "      <th>20</th>\n",
       "      <td>20</td>\n",
       "      <td>0.00184</td>\n",
       "      <td>0.001866</td>\n",
       "      <td>0.998412</td>\n",
       "    </tr>\n",
       "    <tr>\n",
       "      <th>21</th>\n",
       "      <td>21</td>\n",
       "      <td>0.00081</td>\n",
       "      <td>0.000889</td>\n",
       "      <td>0.999300</td>\n",
       "    </tr>\n",
       "    <tr>\n",
       "      <th>22</th>\n",
       "      <td>22</td>\n",
       "      <td>0.00043</td>\n",
       "      <td>0.000404</td>\n",
       "      <td>0.999704</td>\n",
       "    </tr>\n",
       "    <tr>\n",
       "      <th>23</th>\n",
       "      <td>23</td>\n",
       "      <td>0.00023</td>\n",
       "      <td>0.000176</td>\n",
       "      <td>0.999880</td>\n",
       "    </tr>\n",
       "    <tr>\n",
       "      <th>24</th>\n",
       "      <td>24</td>\n",
       "      <td>0.00007</td>\n",
       "      <td>0.000073</td>\n",
       "      <td>0.999953</td>\n",
       "    </tr>\n",
       "    <tr>\n",
       "      <th>25</th>\n",
       "      <td>25</td>\n",
       "      <td>0.00004</td>\n",
       "      <td>0.000029</td>\n",
       "      <td>0.999982</td>\n",
       "    </tr>\n",
       "    <tr>\n",
       "      <th>26</th>\n",
       "      <td>27</td>\n",
       "      <td>0.00001</td>\n",
       "      <td>0.000004</td>\n",
       "      <td>0.999986</td>\n",
       "    </tr>\n",
       "  </tbody>\n",
       "</table>\n",
       "</div>"
      ],
      "text/plain": [
       "     k  Sim_Freq       PMF       CDF\n",
       "0    0   0.00004  0.000045  0.000045\n",
       "1    1   0.00042  0.000454  0.000499\n",
       "2    2   0.00227  0.002270  0.002769\n",
       "3    3   0.00757  0.007567  0.010336\n",
       "4    4   0.01940  0.018917  0.029253\n",
       "5    5   0.03699  0.037833  0.067086\n",
       "6    6   0.06425  0.063055  0.130141\n",
       "7    7   0.08865  0.090079  0.220221\n",
       "8    8   0.11180  0.112599  0.332820\n",
       "9    9   0.12419  0.125110  0.457930\n",
       "10  10   0.12520  0.125110  0.583040\n",
       "11  11   0.11535  0.113736  0.696776\n",
       "12  12   0.09574  0.094780  0.791556\n",
       "13  13   0.07278  0.072908  0.864464\n",
       "14  14   0.05240  0.052077  0.916542\n",
       "15  15   0.03434  0.034718  0.951260\n",
       "16  16   0.02099  0.021699  0.972958\n",
       "17  17   0.01290  0.012764  0.985722\n",
       "18  18   0.00759  0.007091  0.992813\n",
       "19  19   0.00370  0.003732  0.996546\n",
       "20  20   0.00184  0.001866  0.998412\n",
       "21  21   0.00081  0.000889  0.999300\n",
       "22  22   0.00043  0.000404  0.999704\n",
       "23  23   0.00023  0.000176  0.999880\n",
       "24  24   0.00007  0.000073  0.999953\n",
       "25  25   0.00004  0.000029  0.999982\n",
       "26  27   0.00001  0.000004  0.999986"
      ]
     },
     "execution_count": 384,
     "metadata": {},
     "output_type": "execute_result"
    }
   ],
   "source": [
    "df"
   ]
  },
  {
   "cell_type": "code",
   "execution_count": 391,
   "metadata": {
    "scrolled": true
   },
   "outputs": [
    {
     "data": {
      "text/plain": [
       "5.0"
      ]
     },
     "execution_count": 391,
     "metadata": {},
     "output_type": "execute_result"
    }
   ],
   "source": [
    "### 5 percentile of values\n",
    "np.percentile(poisson_draws, 5)"
   ]
  },
  {
   "cell_type": "code",
   "execution_count": 392,
   "metadata": {},
   "outputs": [
    {
     "data": {
      "text/plain": [
       "5.0"
      ]
     },
     "execution_count": 392,
     "metadata": {},
     "output_type": "execute_result"
    }
   ],
   "source": [
    "sp.stats.poisson(lam).ppf(0.05)"
   ]
  },
  {
   "cell_type": "code",
   "execution_count": 584,
   "metadata": {},
   "outputs": [
    {
     "data": {
      "text/plain": [
       "4.360478231445974"
      ]
     },
     "execution_count": 584,
     "metadata": {},
     "output_type": "execute_result"
    }
   ],
   "source": [
    "### Expected value for values under 5th percentile\n",
    "(df[df['k'] <= np.percentile(poisson_draws, 5)]['PMF'] * df['k']).sum() / df[df['k'] <= np.percentile(poisson_draws, 5)]['PMF'].sum()"
   ]
  },
  {
   "cell_type": "markdown",
   "metadata": {},
   "source": [
    "You expect an average of 10 customers to visit your shop in a given hour. Some hours, you see more or less customers due to randomness. Each customer requires an individual employee to be served. A customer who has been served pays \\\\$12, whereas a customer who hasn't been served leaves and pays \\\\$0. You pay employees \\\\$10 an hour to be there. If you choose to staff 10 employees per hour, how much money are you losing in the worst 5\\% of cases?"
   ]
  },
  {
   "cell_type": "code",
   "execution_count": 378,
   "metadata": {},
   "outputs": [
    {
     "name": "stdout",
     "output_type": "stream",
     "text": [
      "In the worst five percent of cases, you can expect to lose an average of $47.69\n",
      "In the worst five percent of cases, you can expect 6 idle employees\n"
     ]
    }
   ],
   "source": [
    "### Simulation\n",
    "lam = 10\n",
    "n = 100000\n",
    "employees = 10\n",
    "customer_draws = np.random.poisson(lam=lam, size=n)\n",
    "customers = np.mean(customer_draws[customer_draws <= np.percentile(customer_draws, 5)])\n",
    "revenue = customers * 12\n",
    "costs = employees * 10\n",
    "profits = revenue - costs\n",
    "idle_employees = employees - customers\n",
    "print('In the worst five percent of cases, you can expect to lose an average of $%.2f' %np.abs(profits))\n",
    "print('In the worst five percent of cases, you can expect %d idle employees' %np.abs(np.round(idle_employees, 0)))\n",
    "\n",
    "# idle_employees = employees - customer_draws\n",
    "# worst_five_percent_avg_idle = np.mean(idle_employees[idle_employees >= np.percentile(idle_employees, 95)])\n",
    "# print('In the worst five percent of cases, you can expect %d idle employees' %np.abs(np.round(worst_five_percent_avg_idle, 0)))"
   ]
  },
  {
   "cell_type": "code",
   "execution_count": 359,
   "metadata": {},
   "outputs": [
    {
     "name": "stdout",
     "output_type": "stream",
     "text": [
      "In the worst five percent of cases, you can expect to lose an average of $47.67\n",
      "In the worst five percent of cases, you can expect 6 idle employees\n"
     ]
    }
   ],
   "source": [
    "### PPF from Distribution\n",
    "lam = 10\n",
    "employees = 10\n",
    "threshold = sp.stats.poisson(lam).ppf(0.05)\n",
    "customers = sp.stats.poisson(lam).expect(lb=-10000, ub=threshold, conditional=True)\n",
    "revenue = customers * 12\n",
    "costs = employees * 10\n",
    "worst_five_percent_profits = revenue - costs\n",
    "worst_five_percent_idle_employees = employees - worst_five_percent_customers\n",
    "print('In the worst five percent of cases, you can expect to lose an average of $%.2f' %np.abs(worst_five_percent_profits))\n",
    "print('In the worst five percent of cases, you can expect %d idle employees' %np.abs(np.round(worst_five_percent_idle_employees, 0)))"
   ]
  },
  {
   "cell_type": "markdown",
   "metadata": {},
   "source": [
    "## Normal"
   ]
  },
  {
   "cell_type": "markdown",
   "metadata": {},
   "source": [
    "**Parameters**\n",
    "\n",
    "$\\mu$ - mean\n",
    "\n",
    "$\\sigma$ - standard deviation"
   ]
  },
  {
   "cell_type": "markdown",
   "metadata": {},
   "source": [
    "**PMF**\n",
    "\n",
    "$f(x| \\mu, \\sigma) = \\frac{1}{\\sigma \\sqrt{2\\pi}}e^{-\\frac{1}{2}\\big(\\frac{x-\\mu}{\\sigma}\\big)^2}$"
   ]
  },
  {
   "cell_type": "markdown",
   "metadata": {},
   "source": [
    "**Moments**\n",
    "\n",
    "$\\mu = \\mu$\n",
    "\n",
    "$Var(x) = \\sigma^2$\n",
    "\n",
    "$Skew = 0$\n",
    "\n",
    "$Kurtosis = 0$ ($3$ for non-Fisher definition)"
   ]
  },
  {
   "cell_type": "code",
   "execution_count": 184,
   "metadata": {},
   "outputs": [],
   "source": [
    "### loc=mu\n",
    "### scale=sigma\n",
    "mu=0\n",
    "sigma=1\n",
    "normal_draws = np.random.normal(loc=mu, scale=sigma, size=100000)"
   ]
  },
  {
   "cell_type": "code",
   "execution_count": 624,
   "metadata": {},
   "outputs": [
    {
     "data": {
      "text/plain": [
       "4.479369739453257"
      ]
     },
     "execution_count": 624,
     "metadata": {},
     "output_type": "execute_result"
    }
   ],
   "source": [
    "np.max(normal_draws)"
   ]
  },
  {
   "cell_type": "code",
   "execution_count": 637,
   "metadata": {},
   "outputs": [
    {
     "data": {
      "image/png": "[encoded data removed]",
      "text/plain": [
       "<Figure size 432x288 with 1 Axes>"
      ]
     },
     "metadata": {
      "needs_background": "light"
     },
     "output_type": "display_data"
    }
   ],
   "source": [
    "plt.hist(normal_draws, bins=30, density=True)\n",
    "plt.plot(np.linspace(np.min(normal_draws), np.max(normal_draws), 100), sp.stats.norm(loc=mu, scale=sigma).pdf(x=np.linspace(np.min(normal_draws), np.max(normal_draws), 100)));"
   ]
  },
  {
   "cell_type": "code",
   "execution_count": 638,
   "metadata": {},
   "outputs": [
    {
     "data": {
      "image/png": "[encoded data removed]",
      "text/plain": [
       "<Figure size 432x288 with 1 Axes>"
      ]
     },
     "metadata": {
      "needs_background": "light"
     },
     "output_type": "display_data"
    }
   ],
   "source": [
    "plt.scatter(*ecdf(normal_draws), color='orange')\n",
    "plt.plot(np.linspace(np.min(normal_draws), np.max(normal_draws), 100), sp.stats.norm(loc=mu, scale=sigma).cdf(x=np.linspace(np.min(normal_draws), np.max(normal_draws), 100)));"
   ]
  },
  {
   "cell_type": "code",
   "execution_count": 187,
   "metadata": {},
   "outputs": [
    {
     "name": "stdout",
     "output_type": "stream",
     "text": [
      "Skew: -0.01\n",
      "Kurtosis: -0.02\n"
     ]
    }
   ],
   "source": [
    "print(\"Skew: %.2f\"%sp.stats.skew(normal_draws))\n",
    "print(\"Kurtosis: %.2f\"%sp.stats.kurtosis(normal_draws))"
   ]
  },
  {
   "cell_type": "markdown",
   "metadata": {},
   "source": [
    "**Standard Score**"
   ]
  },
  {
   "cell_type": "markdown",
   "metadata": {},
   "source": [
    "Transforming a non-standard normal distribution to a standard normal distribution. Also known as z-statistic\n",
    "* Requires population mean and standard deviation (can be bypassed for large sample sizes)\n",
    "* If population mean and standard deviation are not known and sample size is small (<50), this turns into t-statistic"
   ]
  },
  {
   "cell_type": "markdown",
   "metadata": {},
   "source": [
    "$Z = \\frac{x - \\mu}{\\sigma}$"
   ]
  },
  {
   "cell_type": "code",
   "execution_count": 652,
   "metadata": {},
   "outputs": [
    {
     "data": {
      "image/png": "[encoded data removed]",
      "text/plain": [
       "<Figure size 432x288 with 1 Axes>"
      ]
     },
     "metadata": {
      "needs_background": "light"
     },
     "output_type": "display_data"
    }
   ],
   "source": [
    "non_standard = np.random.normal(loc=np.random.uniform(10, 20), scale = np.random.uniform(20, 40), size=10000)\n",
    "plt.hist(non_standard, bins=30);"
   ]
  },
  {
   "cell_type": "code",
   "execution_count": 653,
   "metadata": {},
   "outputs": [
    {
     "name": "stdout",
     "output_type": "stream",
     "text": [
      "Mean: -0.00\n",
      "Standard Deviation: 1.00\n"
     ]
    },
    {
     "data": {
      "image/png": "[encoded data removed]",
      "text/plain": [
       "<Figure size 432x288 with 1 Axes>"
      ]
     },
     "metadata": {
      "needs_background": "light"
     },
     "output_type": "display_data"
    }
   ],
   "source": [
    "standard = (non_standard - np.mean(non_standard)) / np.std(non_standard)\n",
    "plt.hist(standard, bins=30)\n",
    "print(\"Mean: %.2f\" %np.mean(standard))\n",
    "print(\"Standard Deviation: %.2f\" %np.std(standard));"
   ]
  },
  {
   "cell_type": "markdown",
   "metadata": {},
   "source": [
    "**Central Limit Theorem**"
   ]
  },
  {
   "cell_type": "markdown",
   "metadata": {},
   "source": [
    "In many situations, the sample mean of independent random variables tends toward a normal distribution even if the original variables themselves are not normally distributed. This implies that probabilistic and statistical methods that work for normal distributions can be applicable to many problems involving other types of distributions.\n",
    "\n",
    "\n",
    "If $X_{1},X_{2},\\dots ,X_{n}$ are $n$ random samples drawn from a population with overall mean $\\mu$ and finite variance $\\sigma ^{2}$, and if ${\\bar {X}}_{n}$ is the sample mean, the limiting form of the distribution, $Z=\\lim _{n\\to \\infty }{\\sqrt {n}}{\\left({\\frac {{\\bar {X}}_{n}-\\mu }{\\sigma }}\\right)}$, is the standard normal distribution.\n",
    "\n",
    "\n",
    "Implies that probabilistic and statistical methods that work for normal distributions can be applicable to many problems involving other types of distributions."
   ]
  },
  {
   "cell_type": "code",
   "execution_count": 39,
   "metadata": {},
   "outputs": [],
   "source": [
    "### Population - Uniform distribution\n",
    "pop = np.random.uniform(low=0, high=10, size=100000)\n",
    "mu_pop = np.mean(pop)\n",
    "sigma_pop = np.std(pop)\n",
    "\n",
    "### samples\n",
    "n = 1000\n",
    "mu_s = np.empty(10000)\n",
    "\n",
    "for i in range(10000):\n",
    "    x = np.random.choice(a=pop, size=n, replace=False)\n",
    "    mu_s[i] = x.mean()\n",
    "    \n",
    "mu_s_standard = ((mu_s - mu_pop) / sigma_pop) * np.sqrt(n)"
   ]
  },
  {
   "cell_type": "code",
   "execution_count": 40,
   "metadata": {},
   "outputs": [
    {
     "data": {
      "image/png": "[encoded data removed]",
      "text/plain": [
       "<Figure size 432x288 with 1 Axes>"
      ]
     },
     "metadata": {
      "needs_background": "light"
     },
     "output_type": "display_data"
    }
   ],
   "source": [
    "plt.hist(mu_s, bins=30, density=True)\n",
    "plt.axvline(mu_pop, color='r');"
   ]
  },
  {
   "cell_type": "code",
   "execution_count": 41,
   "metadata": {},
   "outputs": [
    {
     "data": {
      "image/png": "[encoded data removed]",
      "text/plain": [
       "<Figure size 432x288 with 1 Axes>"
      ]
     },
     "metadata": {
      "needs_background": "light"
     },
     "output_type": "display_data"
    }
   ],
   "source": [
    "plt.hist(mu_s_standard, bins=30, density=True)\n",
    "plt.plot(np.linspace(np.min(mu_s_standard), np.max(mu_s_standard), 100), sp.stats.norm(loc=0, scale=1).pdf(x=np.linspace(np.min(mu_s_standard), np.max(mu_s_standard), 100)));"
   ]
  },
  {
   "cell_type": "markdown",
   "metadata": {},
   "source": [
    "**Skewed Norm**"
   ]
  },
  {
   "cell_type": "markdown",
   "metadata": {},
   "source": [
    "Can be used to fit and simulate data from a skewed normal distribution. \n",
    "\n",
    "Parameters: ```loc, scale, a```"
   ]
  },
  {
   "cell_type": "markdown",
   "metadata": {},
   "source": [
    "```python\n",
    "skewnorm.pdf(x, a) = 2 * norm.pdf(x) * norm.cdf(a*x)\n",
    "```"
   ]
  },
  {
   "cell_type": "code",
   "execution_count": 31,
   "metadata": {},
   "outputs": [],
   "source": [
    "loc_ = 0\n",
    "scale_ = 1\n",
    "a_ = 3\n",
    "x_ = np.linspace(-1, 3, 100)\n",
    "# Distributions\n",
    "skewnorm = sp.stats.skewnorm(loc=loc_, scale=scale_, a=a_).pdf(x=x_)\n",
    "norm_0 = sp.stats.norm(loc=loc_, scale=scale_).pdf(x=x_)\n",
    "norm_a = sp.stats.norm(loc=a_*loc_, scale=scale_).cdf(x=a_*x_)\n",
    "skewnorm_gen = 2 * np.multiply(norm_0, norm_a)"
   ]
  },
  {
   "cell_type": "code",
   "execution_count": 32,
   "metadata": {
    "scrolled": false
   },
   "outputs": [
    {
     "data": {
      "image/png": "[encoded data removed]",
      "text/plain": [
       "<Figure size 1080x720 with 1 Axes>"
      ]
     },
     "metadata": {
      "needs_background": "light"
     },
     "output_type": "display_data"
    }
   ],
   "source": [
    "fig, ax = plt.subplots(figsize=(15,10))\n",
    "plt.plot(x_, skewnorm)\n",
    "plt.scatter(x_, norm_0, color='orange')\n",
    "plt.scatter(x_, norm_a, color='g')\n",
    "plt.scatter(x_, skewnorm_gen, color='r')\n",
    "plt.legend(['Scipy Skewnorm', 'Norm_0', 'Norm_a', 'Skewnorm Gen']);"
   ]
  },
  {
   "cell_type": "code",
   "execution_count": 2,
   "metadata": {},
   "outputs": [],
   "source": [
    "# ECDF of normal, skewed normal"
   ]
  },
  {
   "cell_type": "markdown",
   "metadata": {},
   "source": [
    "**Log Norm**"
   ]
  },
  {
   "cell_type": "markdown",
   "metadata": {},
   "source": [
    "Log-normal distribution is the continuous probability distribution of a random variable whose logarithm is normally distributed. "
   ]
  },
  {
   "cell_type": "markdown",
   "metadata": {},
   "source": [
    "If $Y$ is normally distributed, $X=exp(Y)$ follows a log-normal distribution.\n",
    "\n",
    "If $X$ is log-normally distributed, $Y=ln(X)$ follows a normal distribution."
   ]
  },
  {
   "cell_type": "markdown",
   "metadata": {},
   "source": [
    "```python\n",
    "sp.stats.lognorm(x, s)\n",
    "np.random.lognormal(mean, sigma)\n",
    "```"
   ]
  },
  {
   "cell_type": "code",
   "execution_count": 343,
   "metadata": {},
   "outputs": [
    {
     "name": "stdout",
     "output_type": "stream",
     "text": [
      "(1.0009907860360672, 0.0012671501024648793, 0.9988562097743672)\n"
     ]
    },
    {
     "data": {
      "image/png": "[encoded data removed]",
      "text/plain": [
       "<Figure size 1080x360 with 2 Axes>"
      ]
     },
     "metadata": {
      "needs_background": "light"
     },
     "output_type": "display_data"
    }
   ],
   "source": [
    "norm = np.random.normal(size=100000)\n",
    "log_norm = np.exp(norm)\n",
    "ln = sp.stats.lognorm(*sp.stats.lognorm.fit(log_norm))\n",
    "print(sp.stats.lognorm.fit(log_norm))\n",
    "x = np.linspace(ln.ppf(0.01), ln.ppf(0.99), 100)\n",
    "\n",
    "fig, axes = plt.subplots(nrows=1, ncols=2, figsize=(15,5))\n",
    "axes[0].hist(log_norm, density=True, bins=50)\n",
    "axes[0].plot(x, ln.pdf(x))\n",
    "axes[1].hist(norm, density=True, bins=50);"
   ]
  },
  {
   "cell_type": "code",
   "execution_count": 346,
   "metadata": {},
   "outputs": [],
   "source": [
    "log_norm_2 = np.random.lognormal(mean=0, sigma=2, size=10000)"
   ]
  },
  {
   "cell_type": "code",
   "execution_count": 347,
   "metadata": {},
   "outputs": [],
   "source": [
    "norm_2 = np.log(log_norm_2)"
   ]
  },
  {
   "cell_type": "code",
   "execution_count": 348,
   "metadata": {},
   "outputs": [
    {
     "data": {
      "text/plain": [
       "2.0061461785062753"
      ]
     },
     "execution_count": 348,
     "metadata": {},
     "output_type": "execute_result"
    }
   ],
   "source": [
    "np.std(norm_2)"
   ]
  },
  {
   "cell_type": "code",
   "execution_count": 340,
   "metadata": {},
   "outputs": [
    {
     "data": {
      "text/plain": [
       "(2.0221981093543677, 0.00036964924779185127, 1.0347498425899728)"
      ]
     },
     "execution_count": 340,
     "metadata": {},
     "output_type": "execute_result"
    }
   ],
   "source": [
    "sp.stats.lognorm.fit(np.random.lognormal(mean=0, sigma=2a, size=10000))"
   ]
  },
  {
   "cell_type": "code",
   "execution_count": 315,
   "metadata": {
    "scrolled": true
   },
   "outputs": [
    {
     "data": {
      "text/plain": [
       "(1.0064151086844375, -0.001168962845634281, 0.996637008034723)"
      ]
     },
     "execution_count": 315,
     "metadata": {},
     "output_type": "execute_result"
    }
   ],
   "source": [
    "sp.stats.lognorm.fit(log_norm)"
   ]
  },
  {
   "cell_type": "code",
   "execution_count": 311,
   "metadata": {},
   "outputs": [
    {
     "data": {
      "image/png": "[encoded data removed]",
      "text/plain": [
       "<Figure size 1080x360 with 2 Axes>"
      ]
     },
     "metadata": {
      "needs_background": "light"
     },
     "output_type": "display_data"
    }
   ],
   "source": [
    "log_norm = np.random.lognormal(size=10000)\n",
    "norm = np.log(log_norm)\n",
    "\n",
    "fig, axes = plt.subplots(nrows=1, ncols=2, figsize=(15,5))\n",
    "axes[0].hist(log_norm, density=True, bins=30)\n",
    "axes[1].hist(norm, density=True, bins=30);"
   ]
  },
  {
   "cell_type": "code",
   "execution_count": 3,
   "metadata": {},
   "outputs": [],
   "source": [
    "# ECDF of exponential, lognorm"
   ]
  },
  {
   "cell_type": "markdown",
   "metadata": {},
   "source": [
    "**Binomial Approximation**"
   ]
  },
  {
   "cell_type": "markdown",
   "metadata": {},
   "source": [
    "**Poisson Approximation**"
   ]
  },
  {
   "cell_type": "markdown",
   "metadata": {},
   "source": [
    "## Student's T"
   ]
  },
  {
   "cell_type": "markdown",
   "metadata": {},
   "source": [
    "Family of continuous probability distributions that arise when estimating the mean of a normally-distributed population in situations where the sample size is small and the population's standard deviation is unknown.\n",
    "\n",
    "If we take a sample of $n$ observations from a normal distribution, then the t-distribution with $\\nu=n-1$ degrees of freedom can be defined as the distribution of the location of the sample mean relative to the true mean, divided by the sample standard deviation, after multiplying by the standardizing term ${\\sqrt {n}}$. In this way, the t-distribution can be used to construct a confidence interval for the true mean.\n",
    "\n",
    "The t-distribution is symmetric and bell-shaped, like the normal distribution. However, the t-distribution has heavier tails, meaning that it is more prone to producing values that fall far from its mean."
   ]
  },
  {
   "cell_type": "markdown",
   "metadata": {},
   "source": [
    "**Parameters**\n",
    "\n",
    "$\\nu = n - 1$ - degrees of freedom ($n$ = sample size from normal distribution)"
   ]
  },
  {
   "cell_type": "markdown",
   "metadata": {},
   "source": [
    "**Moments**\n",
    "\n",
    "$\\mu = 0$ for $\\nu > 1$, otherwise undefined\n",
    "\n",
    "$Var(x) = \\frac{\\nu}{\\nu - 2}$ for $\\nu > 2$, $\\infty$ for $1 < \\nu \\leq 2$, otherwise undefined\n",
    "\n",
    "$Skew=0$ for $\\nu > 3$, otherwise undefined\n",
    "\n",
    "$Kurtosis=\\frac{6}{\\nu - 4}$ for $\\nu > 4$, $\\infty$ for $2 < v \\leq 4$, otherwise undefined"
   ]
  },
  {
   "cell_type": "code",
   "execution_count": 172,
   "metadata": {
    "scrolled": true
   },
   "outputs": [
    {
     "name": "stdout",
     "output_type": "stream",
     "text": [
      "(5, 0.00, 1.00)\n",
      "(5, 0.00, 1.67)\n"
     ]
    }
   ],
   "source": [
    "n = 6\n",
    "v = n - 1\n",
    "\n",
    "s = 100_000\n",
    "draw_means = np.empty(s)\n",
    "\n",
    "for i in range(s):\n",
    "    draws = sp.stats.norm.rvs(loc=0, scale=1, size=n) # Same as np.random.normal\n",
    "    # Bessel's correction for biased sample variance\n",
    "    s = np.std(draws, ddof=1)\n",
    "    d_m = (draws.mean()) / (s / np.sqrt(n))\n",
    "    draw_means[i] = d_m\n",
    "\n",
    "print(\"(%.0f, %.2f, %.2f)\" %sp.stats.t.fit(draw_means))\n",
    "print(\"(%d, %.2f, %.2f)\" %(v, np.mean(draw_means), np.var(draw_means)))"
   ]
  },
  {
   "cell_type": "code",
   "execution_count": 179,
   "metadata": {},
   "outputs": [
    {
     "data": {
      "image/png": "[encoded data removed]",
      "text/plain": [
       "<Figure size 432x288 with 1 Axes>"
      ]
     },
     "metadata": {
      "needs_background": "light"
     },
     "output_type": "display_data"
    }
   ],
   "source": [
    "plt.hist(draw_means, density=True, bins=50, alpha=0.6)\n",
    "plt.plot(np.linspace(np.min(draw_means), np.max(draw_means), 100), sp.stats.t(*sp.stats.t.fit(draw_means)).pdf(x=np.linspace(np.min(draw_means), np.max(draw_means), 100)))\n",
    "plt.xlim(-5,5);"
   ]
  },
  {
   "cell_type": "code",
   "execution_count": 190,
   "metadata": {
    "scrolled": true
   },
   "outputs": [
    {
     "data": {
      "image/png": "[encoded data removed]",
      "text/plain": [
       "<Figure size 432x288 with 1 Axes>"
      ]
     },
     "metadata": {
      "needs_background": "light"
     },
     "output_type": "display_data"
    }
   ],
   "source": [
    "plt.scatter(*ecdf(draw_means), color='orange')\n",
    "plt.plot(np.linspace(np.min(draw_means), np.max(draw_means), 100), sp.stats.t(*sp.stats.t.fit(draw_means)).cdf(x=np.linspace(np.min(draw_means), np.max(draw_means), 100)));"
   ]
  },
  {
   "cell_type": "code",
   "execution_count": 174,
   "metadata": {},
   "outputs": [
    {
     "name": "stdout",
     "output_type": "stream",
     "text": [
      "0.00\n",
      "1.67\n",
      "0.08\n",
      "4.51\n"
     ]
    }
   ],
   "source": [
    "print(\"%.2f\"%np.mean(draw_means))\n",
    "print(\"%.2f\"%np.var(draw_means))\n",
    "print(\"%.2f\"%sp.stats.skew(draw_means))\n",
    "print(\"%.2f\"%sp.stats.kurtosis(draw_means))"
   ]
  },
  {
   "cell_type": "markdown",
   "metadata": {},
   "source": [
    "**Drawing t-values**"
   ]
  },
  {
   "cell_type": "code",
   "execution_count": 181,
   "metadata": {
    "scrolled": true
   },
   "outputs": [
    {
     "data": {
      "image/png": "[encoded data removed]",
      "text/plain": [
       "<Figure size 432x288 with 1 Axes>"
      ]
     },
     "metadata": {
      "needs_background": "light"
     },
     "output_type": "display_data"
    }
   ],
   "source": [
    "t_draws = np.random.standard_t(v, size=10000)\n",
    "plt.hist(t_draws, density=True, bins=50)\n",
    "plt.plot(np.linspace(np.min(t_draws), np.max(t_draws), 100), sp.stats.t(v).pdf(x=np.linspace(np.min(t_draws), np.max(t_draws), 100)))\n",
    "plt.xlim(-5,5);"
   ]
  },
  {
   "cell_type": "code",
   "execution_count": 192,
   "metadata": {
    "scrolled": true
   },
   "outputs": [
    {
     "data": {
      "image/png": "[encoded data removed]",
      "text/plain": [
       "<Figure size 432x288 with 1 Axes>"
      ]
     },
     "metadata": {
      "needs_background": "light"
     },
     "output_type": "display_data"
    }
   ],
   "source": [
    "plt.scatter(*ecdf(t_draws), color='orange')\n",
    "plt.plot(np.linspace(np.min(t_draws), np.max(t_draws), 100), sp.stats.t(v).cdf(x=np.linspace(np.min(t_draws), np.max(t_draws), 100)));"
   ]
  },
  {
   "cell_type": "code",
   "execution_count": 182,
   "metadata": {},
   "outputs": [
    {
     "name": "stdout",
     "output_type": "stream",
     "text": [
      "-0.00\n",
      "1.60\n",
      "-0.01\n",
      "2.95\n"
     ]
    }
   ],
   "source": [
    "print(\"%.2f\"%np.mean(t_draws))\n",
    "print(\"%.2f\"%np.var(t_draws))\n",
    "print(\"%.2f\"%sp.stats.skew(t_draws))\n",
    "print(\"%.2f\"%sp.stats.kurtosis(t_draws))"
   ]
  },
  {
   "cell_type": "code",
   "execution_count": 183,
   "metadata": {},
   "outputs": [
    {
     "name": "stdout",
     "output_type": "stream",
     "text": [
      "(array(0.), array(1.66666667), array(0.), array(6.))\n"
     ]
    }
   ],
   "source": [
    "print(sp.stats.t(v).stats('mvsk'))"
   ]
  },
  {
   "cell_type": "markdown",
   "metadata": {},
   "source": [
    "**Skewed T**"
   ]
  },
  {
   "cell_type": "code",
   "execution_count": null,
   "metadata": {},
   "outputs": [],
   "source": []
  },
  {
   "cell_type": "markdown",
   "metadata": {},
   "source": [
    "## Chi-Square"
   ]
  },
  {
   "cell_type": "markdown",
   "metadata": {},
   "source": [
    "## F"
   ]
  },
  {
   "cell_type": "markdown",
   "metadata": {},
   "source": [
    "## Exponential"
   ]
  },
  {
   "cell_type": "markdown",
   "metadata": {},
   "source": [
    "---"
   ]
  },
  {
   "cell_type": "markdown",
   "metadata": {},
   "source": [
    "# Moments of Statistics"
   ]
  },
  {
   "cell_type": "markdown",
   "metadata": {},
   "source": [
    "**Mean** - First Moment\n",
    "\n",
    "Expected value / Average\n",
    "\n",
    "$\\mu = E[X] = \\sum\\limits_{i\\in I}x_ip(x_i)$ (Discrete)\n",
    "\n",
    "$\\mu = E[X] = \\int\\limits_{-\\infty}^{\\infty}xp(x)dx$ (Continuous)"
   ]
  },
  {
   "cell_type": "markdown",
   "metadata": {},
   "source": [
    "Empirical\n",
    "\n",
    "Unweighted: $\\mu = \\frac{\\sum_{i=1}^{n}x_i}{n}$\n",
    "\n",
    "Unweighted: $\\mu = \\frac{\\sum_{i=1}^{n}x_iw_i}{\\sum_{i=1}w_i}$"
   ]
  },
  {
   "cell_type": "code",
   "execution_count": 496,
   "metadata": {},
   "outputs": [
    {
     "name": "stdout",
     "output_type": "stream",
     "text": [
      "9.9529\n",
      "9.9529\n",
      "10.0000\n"
     ]
    }
   ],
   "source": [
    "lam = 10\n",
    "n = 10000\n",
    "poisson_draws = np.random.poisson(lam=lam, size=n)\n",
    "print(\"%.4f\" %(np.sum(poisson_draws) / n))\n",
    "print(\"%.4f\" %np.mean(poisson_draws))\n",
    "print(\"%.4f\" %sp.stats.poisson(lam).expect())"
   ]
  },
  {
   "cell_type": "markdown",
   "metadata": {},
   "source": [
    "**Variance** - Second moment\n",
    "\n",
    "Variance / deviation from the mean\n",
    "\n",
    "$Var(x) = \\sigma^2 = E[(X - E[X])^2] = E[X^2] - E[X]^2$"
   ]
  },
  {
   "cell_type": "markdown",
   "metadata": {},
   "source": [
    "$Var(x) = \\sigma^2 = \\frac{\\sum_i^N(x_i-\\mu)^2}{N} = \\frac{\\sum_i^Nx_i^2}{N} - \\mu^2$"
   ]
  },
  {
   "cell_type": "markdown",
   "metadata": {},
   "source": [
    "Correcting for bias in sample variance (Bessel's correction):\n",
    "\n",
    "$s^2 = \\frac{1}{n-1}\\sum_i^N(x_i-\\mu)^2$"
   ]
  },
  {
   "cell_type": "code",
   "execution_count": 44,
   "metadata": {
    "scrolled": true
   },
   "outputs": [
    {
     "name": "stdout",
     "output_type": "stream",
     "text": [
      "10.1060\n",
      "10.1060\n",
      "10.0000\n"
     ]
    }
   ],
   "source": [
    "lam = 10\n",
    "n = 100000\n",
    "poisson_draws = np.random.poisson(lam=lam, size=n)\n",
    "print(\"%.4f\" %((np.sum(poisson_draws**2) / n) - np.mean(poisson_draws)**2))\n",
    "print(\"%.4f\" %np.var(poisson_draws))\n",
    "print(\"%.4f\" %sp.stats.poisson(lam).var())"
   ]
  },
  {
   "cell_type": "markdown",
   "metadata": {},
   "source": [
    "**Skewness** - Third moment"
   ]
  },
  {
   "cell_type": "code",
   "execution_count": null,
   "metadata": {},
   "outputs": [],
   "source": []
  },
  {
   "cell_type": "markdown",
   "metadata": {},
   "source": [
    "**Kurtosis** - Fourth moment"
   ]
  },
  {
   "cell_type": "markdown",
   "metadata": {},
   "source": [
    "# Fitting Distributions"
   ]
  },
  {
   "cell_type": "markdown",
   "metadata": {},
   "source": [
    "## Parametric Estimation"
   ]
  },
  {
   "cell_type": "markdown",
   "metadata": {},
   "source": [
    "## Kernel Density Estimation"
   ]
  },
  {
   "cell_type": "markdown",
   "metadata": {},
   "source": [
    "# Statistical Tests"
   ]
  },
  {
   "cell_type": "markdown",
   "metadata": {},
   "source": [
    "**Interpretation of p-values:** the p-value represents the probability that we would see the given outcome for a test statistic, given the null hypothesis is True."
   ]
  },
  {
   "cell_type": "markdown",
   "metadata": {},
   "source": [
    "## Non-Parametric Statistical Testing"
   ]
  },
  {
   "cell_type": "markdown",
   "metadata": {},
   "source": [
    "### Permutation Test"
   ]
  },
  {
   "cell_type": "code",
   "execution_count": 94,
   "metadata": {},
   "outputs": [],
   "source": [
    "def permutation_sample(data1, data2):\n",
    "    \"\"\"Generate a permutation sample from two data sets.\"\"\"\n",
    "\n",
    "    # Concatenate the data sets: data\n",
    "    data = np.concatenate((data1, data2))\n",
    "\n",
    "    # Permute the concatenated array: permuted_data\n",
    "    permuted_data = np.random.permutation(data)\n",
    "\n",
    "    # Split the permuted array into two: perm_sample_1, perm_sample_2\n",
    "    perm_sample_1 = permuted_data[:len(data1)]\n",
    "    perm_sample_2 = permuted_data[len(data1):]\n",
    "\n",
    "    return perm_sample_1, perm_sample_2"
   ]
  },
  {
   "cell_type": "code",
   "execution_count": 95,
   "metadata": {},
   "outputs": [],
   "source": [
    "def draw_perm_reps(data_1, data_2, func, size=1):\n",
    "    \"\"\"Generate multiple permutation replicates.\"\"\"\n",
    "\n",
    "    # Initialize array of replicates: perm_replicates\n",
    "    perm_replicates = np.empty(size)\n",
    "\n",
    "    for i in range(size):\n",
    "        # Generate permutation sample\n",
    "        perm_sample_1, perm_sample_2 = permutation_sample(data_1, data_2)\n",
    "\n",
    "        # Compute the test statistic\n",
    "        perm_replicates[i] = func(perm_sample_1, perm_sample_2)\n",
    "\n",
    "    return perm_replicates"
   ]
  },
  {
   "cell_type": "code",
   "execution_count": 96,
   "metadata": {},
   "outputs": [],
   "source": [
    "def diff_of_means(data_1, data_2):\n",
    "    \"\"\"Difference in means of two arrays.\"\"\"\n",
    "\n",
    "    # The difference of means of data_1, data_2: diff\n",
    "    diff = np.mean(data_1) - np.mean(data_2)\n",
    "\n",
    "    return diff"
   ]
  },
  {
   "cell_type": "code",
   "execution_count": 124,
   "metadata": {},
   "outputs": [],
   "source": [
    "a = np.random.normal(loc = 10, scale = 6.5, size=200)\n",
    "b = np.random.normal(loc=12, scale=6.5, size=200)"
   ]
  },
  {
   "cell_type": "code",
   "execution_count": 129,
   "metadata": {},
   "outputs": [
    {
     "data": {
      "image/png": "[encoded data removed]",
      "text/plain": [
       "<Figure size 432x288 with 1 Axes>"
      ]
     },
     "metadata": {
      "needs_background": "light"
     },
     "output_type": "display_data"
    }
   ],
   "source": [
    "plt.hist(a, bins=20, alpha=0.5)\n",
    "plt.hist(b, bins=20, alpha=0.5);"
   ]
  },
  {
   "cell_type": "code",
   "execution_count": 123,
   "metadata": {},
   "outputs": [
    {
     "name": "stdout",
     "output_type": "stream",
     "text": [
      "p-value = 0.0001\n"
     ]
    }
   ],
   "source": [
    "# Compute difference of mean from experiment: empirical_diff_means\n",
    "empirical_diff_means = np.mean(b) - np.mean(a)\n",
    "\n",
    "# Draw 10,000 permutation replicates: perm_replicates\n",
    "perm_replicates = draw_perm_reps(a, b,\n",
    "                                 diff_of_means, size=10000)\n",
    "\n",
    "# Compute p-value: p\n",
    "p = np.sum(perm_replicates >= empirical_diff_means) / len(perm_replicates)\n",
    "\n",
    "# Print the result\n",
    "print('p-value =', p)"
   ]
  },
  {
   "cell_type": "code",
   "execution_count": 127,
   "metadata": {},
   "outputs": [],
   "source": [
    "def permutation_sample_df(df, n_t, n_c):\n",
    "    df_ = df.sample(n_t, replace=False) # Should replace = True?\n",
    "        \n",
    "    df_bs_c = df_.iloc[:n_c]\n",
    "    df_bs_v = df_.iloc[n_c:]\n",
    "    \n",
    "    return df_bs_c, df_bs_v"
   ]
  },
  {
   "cell_type": "code",
   "execution_count": 128,
   "metadata": {},
   "outputs": [],
   "source": [
    "def draw_perm_reps_df(df, n_c, func, size=1):\n",
    "    perm_replicates = np.empty(size)\n",
    "    n_t = df.shape[0]\n",
    "\n",
    "    for i in range(size):\n",
    "        df_bs_c, df_bs_v = permutation_sample_df(df, n_t, n_c)\n",
    "        \n",
    "        perm_replicates[i] = func(df_bs_c, df_bs_v)\n",
    "\n",
    "    return perm_replicates"
   ]
  },
  {
   "cell_type": "markdown",
   "metadata": {},
   "source": [
    "### Bootstrap Test"
   ]
  },
  {
   "cell_type": "markdown",
   "metadata": {},
   "source": [
    "## Z Test"
   ]
  },
  {
   "cell_type": "markdown",
   "metadata": {},
   "source": [
    "### Z Test of Proportions"
   ]
  },
  {
   "cell_type": "code",
   "execution_count": 17,
   "metadata": {},
   "outputs": [],
   "source": [
    "def z_test_proportions(c_d, c_n, v_d, v_n, print_ = True):\n",
    "    ### Conduct a Z-test of proportions\n",
    "    ### Inputs: c_d, c_n, v_d, v_n (control denominator, control numerator, variant denominator, variant numerator)\n",
    "    ### Prints output (optional)\n",
    "    ### Returns p-value, z-score, percent lift, incremental lift\n",
    "    \n",
    "    p_c = c_n / c_d\n",
    "    p_v = v_n / v_d\n",
    "    \n",
    "    incremental_lift = p_v - p_c\n",
    "    percent_lift = (p_v / p_c) - 1\n",
    "    \n",
    "    pooled_sample_prop = (c_n + v_n) / (c_d + v_d)\n",
    "    z_denom = np.sqrt(pooled_sample_prop * (1 - pooled_sample_prop) * ((1/c_d) + (1/v_d)))\n",
    "    z_score = incremental_lift / z_denom\n",
    "    \n",
    "    p_val = sp.stats.norm.sf(np.abs(z_score))\n",
    "    \n",
    "    if print_:\n",
    "        print('Control: %.4f' %p_c)\n",
    "        print('Variant: %.4f' %p_v)\n",
    "        print('Incremental Diff: %.4f' %incremental_lift)\n",
    "        print('Percent Diff: %.4f' %percent_lift)\n",
    "        print('Z Score: %.2f' %z_score)\n",
    "        print('P Value(1-sided): %.2f' %p_val)\n",
    "        print('P Value(2-sided): %.2f' %(p_val*2))\n",
    "    \n",
    "    return p_val, z_score, percent_lift, incremental_lift"
   ]
  },
  {
   "cell_type": "code",
   "execution_count": 18,
   "metadata": {},
   "outputs": [
    {
     "name": "stdout",
     "output_type": "stream",
     "text": [
      "Control: 0.5000\n",
      "Variant: 0.5250\n",
      "Incremental Diff: 0.0250\n",
      "Percent Diff: 0.0500\n",
      "Z Score: 3.54\n",
      "P Value(1-sided): 0.00\n",
      "P Value(2-sided): 0.00\n"
     ]
    }
   ],
   "source": [
    "z_test_proportions(10000, 5000, 10000, 5250);"
   ]
  },
  {
   "cell_type": "code",
   "execution_count": 29,
   "metadata": {},
   "outputs": [],
   "source": [
    "def z_test_means(c_n, c_m, c_s, v_n, v_m, v_s, print_ = True):\n",
    "    incremental_lift = v_m - c_m\n",
    "    percent_lift = incremental_lift / c_m\n",
    "    z_denom = np.sqrt((c_s ** 2 / c_n) + (v_s ** 2 / v_n))\n",
    "    z_score = incremental_lift / z_denom\n",
    "    p_val = sp.stats.norm.sf(np.abs(z_score))\n",
    "    \n",
    "    if print_:\n",
    "        print('Control: %.4f' %c_m)\n",
    "        print('Variant: %.4f' %v_m)\n",
    "        print('Incremental Diff: %.4f' %incremental_lift)\n",
    "        print('Percent Diff: %.4f' %percent_lift)\n",
    "        print('Z Score: %.2f' %z_score)\n",
    "        print('P Value(1-sided): %.2f' %p_val)\n",
    "        print('P Value(2-sided): %.2f' %(p_val*2))\n",
    "    \n",
    "    return p_val, z_score, percent_lift, incremental_lift"
   ]
  },
  {
   "cell_type": "code",
   "execution_count": 30,
   "metadata": {},
   "outputs": [
    {
     "name": "stdout",
     "output_type": "stream",
     "text": [
      "Control: 6.1300\n",
      "Variant: 7.9300\n",
      "Incremental Diff: 1.8000\n",
      "Percent Diff: 0.2936\n",
      "Z Score: 5.38\n",
      "P Value(1-sided): 0.00\n",
      "P Value(2-sided): 0.00\n"
     ]
    }
   ],
   "source": [
    "z_test_means(67203, 6.13, 9.13, 2601, 7.93, 16.98);"
   ]
  },
  {
   "cell_type": "markdown",
   "metadata": {},
   "source": [
    "## Sample Sizing"
   ]
  },
  {
   "cell_type": "markdown",
   "metadata": {},
   "source": [
    "## KS Test"
   ]
  },
  {
   "cell_type": "markdown",
   "metadata": {},
   "source": [
    "## Chow Test"
   ]
  },
  {
   "cell_type": "code",
   "execution_count": null,
   "metadata": {},
   "outputs": [],
   "source": []
  }
 ],
 "metadata": {
  "kernelspec": {
   "display_name": "Python 3",
   "language": "python",
   "name": "python3"
  },
  "language_info": {
   "codemirror_mode": {
    "name": "ipython",
    "version": 3
   },
   "file_extension": ".py",
   "mimetype": "text/x-python",
   "name": "python",
   "nbconvert_exporter": "python",
   "pygments_lexer": "ipython3",
   "version": "3.8.3"
  }
 },
 "nbformat": 4,
 "nbformat_minor": 4
}
